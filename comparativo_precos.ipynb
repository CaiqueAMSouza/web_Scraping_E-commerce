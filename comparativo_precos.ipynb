{
 "cells": [
  {
   "cell_type": "code",
   "execution_count": 41,
   "metadata": {},
   "outputs": [],
   "source": [
    "from selenium import webdriver\n",
    "from selenium.webdriver.common.by import By\n",
    "from selenium.webdriver.chrome.service import Service\n",
    "from webdriver_manager.chrome import ChromeDriverManager\n",
    "from selenium.webdriver.chrome.options import Options\n",
    "from selenium.webdriver.support.ui import WebDriverWait\n",
    "from selenium.webdriver.support import expected_conditions as EC\n",
    "import pandas as pd\n",
    "import time"
   ]
  },
  {
   "cell_type": "code",
   "execution_count": 42,
   "metadata": {},
   "outputs": [],
   "source": [
    "# Configurações do Chrome\n",
    "options = Options()\n",
    "# options.add_argument(\"--headless\")  # Remova o comentário para executar em modo headless\n",
    "options.add_argument(\"--disable-gpu\")  # Desabilitar aceleração por GPU\n",
    "options.add_argument(\"--window-size=1920,1080\")  # Definir tamanho da janela"
   ]
  },
  {
   "cell_type": "code",
   "execution_count": 43,
   "metadata": {},
   "outputs": [],
   "source": [
    "# Inicializar o WebDriver\n",
    "driver = webdriver.Chrome(service=Service(ChromeDriverManager().install()), options=options)\n",
    "\n",
    "# Lista para armazenar os dados dos produtos\n",
    "produtos_data = []\n",
    "\n",
    "# Lista de marcas conhecidas\n",
    "marcas_conhecidas = [\"Apple\", \"Samsung\", \"Xiaomi\", \"Motorola\", \"LG\", \"Asus\", \"Huawei\", \"Nokia\", \"Sony\", \"Infinix\", \"Realme\",\"oppo\",\"\"]\n"
   ]
  },
  {
   "cell_type": "code",
   "execution_count": 44,
   "metadata": {},
   "outputs": [],
   "source": [
    "# Função para identificar a marca a partir do nome do produto\n",
    "def identificar_marca(nome_produto):\n",
    "    for marca in marcas_conhecidas:\n",
    "        if marca.lower() in nome_produto.lower():  # Verifica se a marca está no nome do produto\n",
    "            return marca\n",
    "    return \"Outra\"  # Se não encontrar a marca, retorna \"Outra\""
   ]
  },
  {
   "cell_type": "code",
   "execution_count": 45,
   "metadata": {},
   "outputs": [],
   "source": [
    "# Função para rolar a página e carregar todos os produtos\n",
    "def scroll_page():\n",
    "    last_height = driver.execute_script(\"return document.body.scrollHeight\")\n",
    "    while True:\n",
    "        driver.execute_script(\"window.scrollTo(0, document.body.scrollHeight);\")\n",
    "        time.sleep(2)  # Aguardar o carregamento dos novos produtos\n",
    "        new_height = driver.execute_script(\"return document.body.scrollHeight\")\n",
    "        if new_height == last_height:\n",
    "            break\n",
    "        last_height = new_height"
   ]
  },
  {
   "cell_type": "code",
   "execution_count": 46,
   "metadata": {},
   "outputs": [],
   "source": [
    "# Função para coletar os produtos de uma página\n",
    "def coletar_produtos():\n",
    "    try:\n",
    "        # Encontrar todos os elementos dos produtos\n",
    "        produtos = driver.find_elements(By.CSS_SELECTOR, '#__next > div > main > section:nth-child(5) > div.sc-cqaSWz.iEauxH > div > ul > li')\n",
    "        \n",
    "        if produtos:\n",
    "            for produto in produtos:\n",
    "                try:\n",
    "                    # Extrair nome do produto\n",
    "                    nome = produto.find_element(By.CSS_SELECTOR, 'h2').text\n",
    "                    \n",
    "                    # Extrair link do produto\n",
    "                    link = produto.find_element(By.CSS_SELECTOR, 'a').get_attribute('href')\n",
    "                    \n",
    "                    # Extrair preço do produto\n",
    "                    try:\n",
    "                        preco = produto.find_element(By.CSS_SELECTOR, 'li a div.sc-fedTIj.cRoAUl div.sc-iGgWBj.ftWanB.sc-BQMaI.hJcuHp div div p[data-testid=\"price-value\"]').text\n",
    "                        \n",
    "                        # Remover a palavra \"ou\" do preço, se existir\n",
    "                        if \"ou\" in preco:\n",
    "                            preco = preco.replace(\"ou\", \"\").strip()  # Remove \"ou\" e espaços extras\n",
    "                        \n",
    "                        # Converter o preço para float (removendo \"R$\" e substituindo \",\" por \".\")\n",
    "                        preco_float = float(preco.replace(\"R$\", \"\").replace(\".\", \"\").replace(\",\", \".\"))\n",
    "                    except Exception as e:\n",
    "                        print(f\"Erro ao extrair preço: {e}\")\n",
    "                        preco = \"Preço não disponível\"\n",
    "                        preco_float = None\n",
    "                    \n",
    "                    # Identificar a marca do produto\n",
    "                    marca = identificar_marca(nome)\n",
    "                    \n",
    "                    # Adicionar os dados à lista\n",
    "                    produtos_data.append({\n",
    "                        'Nome': nome,\n",
    "                        'Link': link,\n",
    "                        'Preço': preco,\n",
    "                        'Preço Float': preco_float,  # Adicionando o preço como float para cálculos\n",
    "                        'Marca': marca  # Adicionando a marca do produto\n",
    "                    })\n",
    "                except Exception as e:\n",
    "                    print(f\"Erro ao extrair dados de um produto: {e}\")\n",
    "        else:\n",
    "            print(\"Nenhum produto encontrado na página!\")\n",
    "    except Exception as e:\n",
    "        print(f\"Erro ao buscar produtos: {e}\")\n"
   ]
  },
  {
   "cell_type": "code",
   "execution_count": 47,
   "metadata": {},
   "outputs": [
    {
     "name": "stdout",
     "output_type": "stream",
     "text": [
      "Coletando dados da página 1...\n",
      "Página 1 carregada com sucesso!\n",
      "Coletando dados da página 2...\n",
      "Página 2 carregada com sucesso!\n",
      "Coletando dados da página 3...\n",
      "Página 3 carregada com sucesso!\n",
      "Coletando dados da página 4...\n",
      "Página 4 carregada com sucesso!\n",
      "Coletando dados da página 5...\n",
      "Página 5 carregada com sucesso!\n",
      "Coletando dados da página 6...\n",
      "Página 6 carregada com sucesso!\n",
      "Coletando dados da página 7...\n",
      "Página 7 carregada com sucesso!\n",
      "Coletando dados da página 8...\n",
      "Página 8 carregada com sucesso!\n",
      "Coletando dados da página 9...\n",
      "Página 9 carregada com sucesso!\n",
      "Coletando dados da página 10...\n",
      "Página 10 carregada com sucesso!\n",
      "Coletando dados da página 11...\n",
      "Página 11 carregada com sucesso!\n",
      "Coletando dados da página 12...\n",
      "Página 12 carregada com sucesso!\n",
      "Coletando dados da página 13...\n",
      "Página 13 carregada com sucesso!\n",
      "Coletando dados da página 14...\n",
      "Página 14 carregada com sucesso!\n",
      "Coletando dados da página 15...\n",
      "Página 15 carregada com sucesso!\n",
      "Coletando dados da página 16...\n",
      "Página 16 carregada com sucesso!\n",
      "Coletando dados da página 17...\n",
      "Página 17 carregada com sucesso!\n"
     ]
    }
   ],
   "source": [
    "# Iterar sobre as páginas de 1 a 17\n",
    "for pagina in range(1, 18):\n",
    "    print(f\"Coletando dados da página {pagina}...\")\n",
    "    \n",
    "    # URL da página de produtos\n",
    "    url = f'https://www.magazineluiza.com.br/celulares-e-smartphones/l/te/?page={pagina}'\n",
    "    driver.get(url)\n",
    "\n",
    "    try:\n",
    "        # Aguardar o carregamento dos produtos\n",
    "        WebDriverWait(driver, 40).until(\n",
    "            EC.presence_of_element_located((By.CSS_SELECTOR, '#__next > div > main > section:nth-child(5) > div.sc-cqaSWz.iEauxH > div > ul'))\n",
    "        )\n",
    "        print(f\"Página {pagina} carregada com sucesso!\")\n",
    "\n",
    "        # Rolagem da página para carregar todos os produtos\n",
    "        scroll_page()\n",
    "\n",
    "        # Coletar os produtos da página\n",
    "        coletar_produtos()\n",
    "    except Exception as e:\n",
    "        print(f\"Erro ao carregar a página {pagina}: {e}\")"
   ]
  },
  {
   "cell_type": "code",
   "execution_count": 48,
   "metadata": {},
   "outputs": [],
   "source": [
    "# Fechar o navegador\n",
    "driver.quit()"
   ]
  },
  {
   "cell_type": "code",
   "execution_count": null,
   "metadata": {},
   "outputs": [
    {
     "name": "stdout",
     "output_type": "stream",
     "text": [
      "Média de preço dos produtos: R$ 1742.75\n",
      "A marca mais vendida é Samsung com 317 produtos.\n",
      "Dados salvos em 'produtos_magalu_todas_paginas.xlsx'\n"
     ]
    }
   ],
   "source": [
    "# Processar os dados coletados\n",
    "if produtos_data:\n",
    "    # Converter a lista de produtos em um DataFrame\n",
    "    df = pd.DataFrame(produtos_data)\n",
    "    \n",
    "    # Calcular a média dos preços\n",
    "    media_preco = df['Preço Float'].mean()\n",
    "    print(f\"Média de preço dos produtos: R$ {media_preco:.2f}\")\n",
    "\n",
    "    \n",
    "    frequencia_marcas = df['Marca'].value_counts()\n",
    "    marca_mais_vendida = frequencia_marcas.idxmax()\n",
    "    quantidade_mais_vendida = frequencia_marcas.max()\n",
    "\n",
    "    # Adicionar a informação da marca mais vendida ao DataFrame\n",
    "    df['Marca Mais Vendida'] = marca_mais_vendida\n",
    "    df['Quantidade Mais Vendida'] = quantidade_mais_vendida\n",
    "\n",
    "    # Exibir a marca mais vendida no console\n",
    "    print(f\"A marca mais vendida é {marca_mais_vendida} com {quantidade_mais_vendida} produtos.\")\n",
    "\n",
    "\n",
    "    df['media de preço:'] = media_preco\n",
    "    \n",
    "    # Adicionar uma coluna com a diferença em relação à média\n",
    "    df['Diferença em Relação à Média'] = df['Preço Float'] - media_preco\n",
    "    \n",
    "    # Adicionar uma coluna com o status do preço (acima ou abaixo da média)\n",
    "    df['Status do Preço'] = df['Diferença em Relação à Média'].apply(lambda x: 'Acima da Média' if x > 0 else 'Abaixo da Média')\n",
    "    \n",
    "    # Salvar os dados em um arquivo Excel\n",
    "    df.to_excel('produtos_magalu_todas_paginas.xlsx', index=False)\n",
    "    print(\"Dados salvos em 'produtos_magalu_celular.xlsx'\")\n",
    "else:\n",
    "    print(\"Nenhum dado foi coletado para salvar.\")\n",
    "\n",
    "\n"
   ]
  }
 ],
 "metadata": {
  "kernelspec": {
   "display_name": "Python 3",
   "language": "python",
   "name": "python3"
  },
  "language_info": {
   "codemirror_mode": {
    "name": "ipython",
    "version": 3
   },
   "file_extension": ".py",
   "mimetype": "text/x-python",
   "name": "python",
   "nbconvert_exporter": "python",
   "pygments_lexer": "ipython3",
   "version": "3.13.2"
  }
 },
 "nbformat": 4,
 "nbformat_minor": 2
}
